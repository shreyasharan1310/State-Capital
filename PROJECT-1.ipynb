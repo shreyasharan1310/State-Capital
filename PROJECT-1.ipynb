{
 "cells": [
  {
   "cell_type": "code",
   "execution_count": null,
   "id": "db3ed3a0-2f79-40e4-9f61-183f7bc06e0c",
   "metadata": {},
   "outputs": [],
   "source": [
    "data={\n",
    "    \"jammu and kashmir\":\" ladakh\",\n",
    "    \"himachal pradesh\": \"shimla\",\n",
    "    \"punjab\": \"chandigarh\",\n",
    "    \"uttarakhand\": \"Dehradun\",\n",
    "    \"haryana\": \"chandigarh\",\n",
    "    \"delhi\": \"new delhi\",\n",
    "    \"uttar pradesh\": \"lucknow\",\n",
    "    \"rajasthan\": \"jaipur\",\n",
    "    \"gujrat\": \"gandhi nagar\",\n",
    "    \"madhya pradesh\": \"bhopal\",\n",
    "    \"bihar\": \"patna\",\n",
    "    \"jharkhand\": \"ranchi\",\n",
    "    \"west bengal\": \"kolkata\",\n",
    "    \"meghalaya\": \"shimla\",\n",
    "    \"assam\": \"dispur\",\n",
    "    \"arunachal pradesh\": \"itanagar\",\n",
    "    \"nagaland\": \"kohima\",\n",
    "    \"manipur\": \"imphal\",\n",
    "    \"mizoram\": \"izol\",\n",
    "    \"tripura\": \"agartala\",\n",
    "    \"chattisgarh\": \"raipur\",\n",
    "    \"odissa\": \"bhuvaneshwar\",\n",
    "    \"maharashtra\": \"Mumbai\",\n",
    "    \"telengana\": \"hyderabad\",\n",
    "    \"karnataka\": \"bengaluru\",\n",
    "    \"goa\": \"panaji\",\n",
    "    \"andhra pradesh\": \"amaravati\",\n",
    "    \"kerala\": \"thiruvanthanapuram\",\n",
    "    \"tamil nadu\": \"puducherry\"    \n",
    "}\n",
    "x=input(\"enter a state:\")\n",
    "x=x.lower()\n",
    "st=data.keys()\n",
    "if x in st:\n",
    "    v=data[x]\n",
    "    v=v.title()\n",
    "    print(f\"The capital of {x} is {v}\")\n",
    "else:\n",
    "    print(\"not found\")\n",
    "    "
   ]
  },
  {
   "cell_type": "code",
   "execution_count": null,
   "id": "0375d16f-60dd-408d-987f-86346e9e818f",
   "metadata": {},
   "outputs": [],
   "source": []
  },
  {
   "cell_type": "code",
   "execution_count": null,
   "id": "d028bae6-0af6-4839-8cb9-e6e69f9d0738",
   "metadata": {},
   "outputs": [],
   "source": []
  },
  {
   "cell_type": "code",
   "execution_count": null,
   "id": "78143e3a-0962-4318-8f15-33636a382f0a",
   "metadata": {},
   "outputs": [],
   "source": []
  },
  {
   "cell_type": "code",
   "execution_count": null,
   "id": "38312721-de95-4cb8-be4e-ef7ca01e3dc1",
   "metadata": {},
   "outputs": [],
   "source": []
  },
  {
   "cell_type": "code",
   "execution_count": null,
   "id": "d875045a-2805-445c-ba1c-f167d11da026",
   "metadata": {},
   "outputs": [],
   "source": []
  },
  {
   "cell_type": "code",
   "execution_count": null,
   "id": "cdee9973-d6a2-46eb-9506-60787616b030",
   "metadata": {},
   "outputs": [],
   "source": []
  },
  {
   "cell_type": "code",
   "execution_count": null,
   "id": "9fe311c6-9d15-464e-b732-8e7d7f85ea0a",
   "metadata": {},
   "outputs": [],
   "source": []
  },
  {
   "cell_type": "code",
   "execution_count": null,
   "id": "5cef7acb-70bd-4474-b14f-1bd8c45249e6",
   "metadata": {},
   "outputs": [],
   "source": []
  },
  {
   "cell_type": "code",
   "execution_count": null,
   "id": "95531ca1-dd32-4c57-bef6-c1bc7a99ee69",
   "metadata": {},
   "outputs": [],
   "source": []
  },
  {
   "cell_type": "code",
   "execution_count": null,
   "id": "64b52439-f6c1-47fd-8de3-fdb9c34bf9c3",
   "metadata": {},
   "outputs": [],
   "source": []
  },
  {
   "cell_type": "code",
   "execution_count": null,
   "id": "eea09877-e666-4d27-8b7e-2ca778fea89f",
   "metadata": {},
   "outputs": [],
   "source": []
  },
  {
   "cell_type": "code",
   "execution_count": null,
   "id": "d2e11e4f-9a7a-456e-a511-d252c5555b7d",
   "metadata": {},
   "outputs": [],
   "source": []
  },
  {
   "cell_type": "code",
   "execution_count": null,
   "id": "43ee31a9-a155-437b-9495-eebc54ea5fa0",
   "metadata": {},
   "outputs": [],
   "source": []
  },
  {
   "cell_type": "code",
   "execution_count": null,
   "id": "4d3f327b-2a37-41f0-9680-b071483a804f",
   "metadata": {},
   "outputs": [],
   "source": []
  },
  {
   "cell_type": "code",
   "execution_count": null,
   "id": "e0028d68-da81-49a0-ae01-460072024e22",
   "metadata": {},
   "outputs": [],
   "source": []
  },
  {
   "cell_type": "code",
   "execution_count": null,
   "id": "2df390db-2e3e-4d32-b79f-d0821a3d5290",
   "metadata": {},
   "outputs": [],
   "source": []
  },
  {
   "cell_type": "code",
   "execution_count": null,
   "id": "16cc566c-0477-41a7-bb0c-49df60b0ecd2",
   "metadata": {},
   "outputs": [],
   "source": []
  },
  {
   "cell_type": "code",
   "execution_count": null,
   "id": "3a5bca39-0038-4882-ab67-7c3153cc64ee",
   "metadata": {},
   "outputs": [],
   "source": []
  },
  {
   "cell_type": "code",
   "execution_count": null,
   "id": "5c92477e-ba21-42e0-963b-87d0936f3be2",
   "metadata": {},
   "outputs": [],
   "source": []
  },
  {
   "cell_type": "code",
   "execution_count": null,
   "id": "c17b2504-60cd-40f7-8a77-846a6af01b79",
   "metadata": {},
   "outputs": [],
   "source": []
  }
 ],
 "metadata": {
  "kernelspec": {
   "display_name": "Python 3 (ipykernel)",
   "language": "python",
   "name": "python3"
  },
  "language_info": {
   "codemirror_mode": {
    "name": "ipython",
    "version": 3
   },
   "file_extension": ".py",
   "mimetype": "text/x-python",
   "name": "python",
   "nbconvert_exporter": "python",
   "pygments_lexer": "ipython3",
   "version": "3.12.7"
  }
 },
 "nbformat": 4,
 "nbformat_minor": 5
}
